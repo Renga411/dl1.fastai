{
 "cells": [
  {
   "cell_type": "code",
   "execution_count": 1,
   "metadata": {},
   "outputs": [],
   "source": [
    "import os as os\n",
    "from os import *\n",
    "import random"
   ]
  },
  {
   "cell_type": "code",
   "execution_count": 2,
   "metadata": {},
   "outputs": [],
   "source": [
    "PATH=\"/home/paperspace/fastai/courses/dl1/data/seedlings\""
   ]
  },
  {
   "cell_type": "code",
   "execution_count": 3,
   "metadata": {},
   "outputs": [],
   "source": [
    "classes=!ls {PATH}/train"
   ]
  },
  {
   "cell_type": "code",
   "execution_count": 4,
   "metadata": {},
   "outputs": [],
   "source": [
    "def copy_to_valid(chosen_files,class_dir):\n",
    "    for i in range (len(chosen_files)):\n",
    "        !mv \"{PATH}/train/{class_dir}/{chosen_files[i]}\" \"{PATH}/valid/{class_dir}\""
   ]
  },
  {
   "cell_type": "code",
   "execution_count": 5,
   "metadata": {},
   "outputs": [],
   "source": [
    "for classname in classes:\n",
    "    os.makedirs(f'{PATH}/valid/{classname}', exist_ok=True)\n",
    "    list_of_files = !ls \"{PATH}/train/{classname}\"\n",
    "    random.shuffle(list_of_files)\n",
    "    n_files_moved=int(len(list_of_files)*0.2)\n",
    "    selected_files = [list_of_files[m] for m in range(n_files_moved)]\n",
    "    copy_to_valid(selected_files,classname)"
   ]
  },
  {
   "cell_type": "code",
   "execution_count": null,
   "metadata": {},
   "outputs": [],
   "source": []
  }
 ],
 "metadata": {
  "kernelspec": {
   "display_name": "Python 3",
   "language": "python",
   "name": "python3"
  },
  "language_info": {
   "codemirror_mode": {
    "name": "ipython",
    "version": 3
   },
   "file_extension": ".py",
   "mimetype": "text/x-python",
   "name": "python",
   "nbconvert_exporter": "python",
   "pygments_lexer": "ipython3",
   "version": "3.6.4"
  }
 },
 "nbformat": 4,
 "nbformat_minor": 2
}
